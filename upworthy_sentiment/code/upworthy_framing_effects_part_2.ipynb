{
 "cells": [
  {
   "cell_type": "markdown",
   "metadata": {},
   "source": [
    "## Upworthy Archive Sentiment Code (2/2)\n",
    "This notebook focuses on creating fixed effects models of sentiment data found in (1/2). "
   ]
  },
  {
   "cell_type": "code",
   "execution_count": 2,
   "metadata": {
    "scrolled": true
   },
   "outputs": [
    {
     "name": "stderr",
     "output_type": "stream",
     "text": [
      "Warning message:\n",
      "\"package 'plm' was built under R version 3.6.3\""
     ]
    }
   ],
   "source": [
    "#Here's the csv I'm trying to load\n",
    "upworthy.df <- read.csv(\"upworthy_to_R.csv\", header = TRUE)\n",
    "library(plm)   "
   ]
  },
  {
   "cell_type": "code",
   "execution_count": 3,
   "metadata": {},
   "outputs": [],
   "source": [
    "#load csv files of the data\n",
    "upworthy.vader.pnn <- read.csv(\"upworthy_vader_pnn_classifier.csv\", header = TRUE)\n",
    "upworthy.vader.compound <- read.csv(\"upworthy_vader_compound_classifier.csv\", header = TRUE)\n",
    "upworthy.textblob <- read.csv(\"upworthy_textblob_classifier.csv\",header = TRUE)"
   ]
  },
  {
   "cell_type": "code",
   "execution_count": 4,
   "metadata": {
    "scrolled": true
   },
   "outputs": [
    {
     "data": {
      "text/plain": [
       "Oneway (individual) effect Within Model\n",
       "\n",
       "Call:\n",
       "plm(formula = CTR ~ polarity_vader, data = upworthy.vader.pnn, \n",
       "    model = \"within\", index = \"clickability_test_id\")\n",
       "\n",
       "Unbalanced Panel: n = 4873, T = 2-14, N = 22666\n",
       "\n",
       "Residuals:\n",
       "       Min.     1st Qu.      Median     3rd Qu.        Max. \n",
       "-0.03282356 -0.00193462 -0.00014345  0.00173873  0.04386165 \n",
       "\n",
       "Coefficients:\n",
       "                          Estimate  Std. Error t-value  Pr(>|t|)    \n",
       "polarity_vaderNegative  0.00051583  0.00013292  3.8806 0.0001046 ***\n",
       "polarity_vaderPositive -0.00018325  0.00011978 -1.5298 0.1260731    \n",
       "---\n",
       "Signif. codes:  0 '***' 0.001 '**' 0.01 '*' 0.05 '.' 0.1 ' ' 1\n",
       "\n",
       "Total Sum of Squares:    0.32788\n",
       "Residual Sum of Squares: 0.32737\n",
       "R-Squared:      0.0015615\n",
       "Adj. R-Squared: -0.27197\n",
       "F-statistic: 13.912 on 2 and 17791 DF, p-value: 9.1796e-07"
      ]
     },
     "metadata": {},
     "output_type": "display_data"
    }
   ],
   "source": [
    "#FE VADER pos-neg-neu\n",
    "summary(plm(CTR ~ polarity_vader,\n",
    "            index=\"clickability_test_id\",\n",
    "            model=\"within\",\n",
    "            data=upworthy.vader.pnn))"
   ]
  },
  {
   "cell_type": "code",
   "execution_count": 5,
   "metadata": {
    "scrolled": true
   },
   "outputs": [
    {
     "data": {
      "text/plain": [
       "Oneway (individual) effect Within Model\n",
       "\n",
       "Call:\n",
       "plm(formula = CTR ~ polarity_vader, data = upworthy.vader.compound, \n",
       "    model = \"within\", index = \"clickability_test_id\")\n",
       "\n",
       "Unbalanced Panel: n = 4873, T = 2-14, N = 22666\n",
       "\n",
       "Residuals:\n",
       "       Min.     1st Qu.      Median     3rd Qu.        Max. \n",
       "-0.03268765 -0.00193616 -0.00014418  0.00173866  0.04362409 \n",
       "\n",
       "Coefficients:\n",
       "                          Estimate  Std. Error t-value  Pr(>|t|)    \n",
       "polarity_vaderNegative  0.00031973  0.00015845  2.0179 0.0436147 *  \n",
       "polarity_vaderPositive -0.00047512  0.00013388 -3.5489 0.0003879 ***\n",
       "---\n",
       "Signif. codes:  0 '***' 0.001 '**' 0.01 '*' 0.05 '.' 0.1 ' ' 1\n",
       "\n",
       "Total Sum of Squares:    0.32788\n",
       "Residual Sum of Squares: 0.32754\n",
       "R-Squared:      0.001059\n",
       "Adj. R-Squared: -0.27261\n",
       "F-statistic: 9.43002 on 2 and 17791 DF, p-value: 8.0679e-05"
      ]
     },
     "metadata": {},
     "output_type": "display_data"
    }
   ],
   "source": [
    "#VADER compound\n",
    "summary(plm(CTR ~ polarity_vader,\n",
    "            index=\"clickability_test_id\",\n",
    "            model=\"within\",\n",
    "            data=upworthy.vader.compound))"
   ]
  },
  {
   "cell_type": "code",
   "execution_count": 6,
   "metadata": {},
   "outputs": [
    {
     "data": {
      "text/plain": [
       "Oneway (individual) effect Within Model\n",
       "\n",
       "Call:\n",
       "plm(formula = CTR ~ polarity + subjectivity, data = upworthy.textblob, \n",
       "    model = \"within\", index = \"clickability_test_id\")\n",
       "\n",
       "Unbalanced Panel: n = 4873, T = 2-14, N = 22666\n",
       "\n",
       "Residuals:\n",
       "       Min.     1st Qu.      Median     3rd Qu.        Max. \n",
       "-0.03296481 -0.00193331 -0.00013741  0.00173415  0.04384157 \n",
       "\n",
       "Coefficients:\n",
       "                Estimate  Std. Error t-value Pr(>|t|)  \n",
       "polarity     -0.00039465  0.00016700 -2.3632  0.01813 *\n",
       "subjectivity  0.00039116  0.00015584  2.5100  0.01208 *\n",
       "---\n",
       "Signif. codes:  0 '***' 0.001 '**' 0.01 '*' 0.05 '.' 0.1 ' ' 1\n",
       "\n",
       "Total Sum of Squares:    0.32788\n",
       "Residual Sum of Squares: 0.32769\n",
       "R-Squared:      0.00058477\n",
       "Adj. R-Squared: -0.27321\n",
       "F-statistic: 5.2049 on 2 and 17791 DF, p-value: 0.005498"
      ]
     },
     "metadata": {},
     "output_type": "display_data"
    }
   ],
   "source": [
    "#TextBlob\n",
    "summary(plm(CTR ~ polarity + subjectivity,\n",
    "            index=\"clickability_test_id\",\n",
    "            model=\"within\",\n",
    "            data=upworthy.textblob))"
   ]
  }
 ],
 "metadata": {
  "kernelspec": {
   "display_name": "R",
   "language": "R",
   "name": "ir"
  },
  "language_info": {
   "codemirror_mode": "r",
   "file_extension": ".r",
   "mimetype": "text/x-r-source",
   "name": "R",
   "pygments_lexer": "r",
   "version": "3.6.1"
  }
 },
 "nbformat": 4,
 "nbformat_minor": 2
}
