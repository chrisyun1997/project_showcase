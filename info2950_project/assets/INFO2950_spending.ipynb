{
 "cells": [
  {
   "cell_type": "markdown",
   "metadata": {},
   "source": [
    "# Presidential Campaign Spending (1980-2016 Elections)\n",
    "#### Chris Yun (cjy32)"
   ]
  },
  {
   "cell_type": "code",
   "execution_count": 1,
   "metadata": {},
   "outputs": [],
   "source": [
    "#import packages\n",
    "import pandas as pd\n",
    "import numpy as np\n",
    "import matplotlib.pyplot as plt"
   ]
  },
  {
   "cell_type": "code",
   "execution_count": 2,
   "metadata": {},
   "outputs": [
    {
     "name": "stderr",
     "output_type": "stream",
     "text": [
      "C:\\Users\\Owner\\Anaconda3\\lib\\site-packages\\IPython\\core\\interactiveshell.py:3049: DtypeWarning: Columns (64) have mixed types. Specify dtype option on import or set low_memory=False.\n",
      "  interactivity=interactivity, compiler=compiler, result=result)\n",
      "C:\\Users\\Owner\\Anaconda3\\lib\\site-packages\\IPython\\core\\interactiveshell.py:3049: DtypeWarning: Columns (36) have mixed types. Specify dtype option on import or set low_memory=False.\n",
      "  interactivity=interactivity, compiler=compiler, result=result)\n",
      "C:\\Users\\Owner\\Anaconda3\\lib\\site-packages\\IPython\\core\\interactiveshell.py:3049: DtypeWarning: Columns (10,11,23,24,26,27,28,29,33,34,72) have mixed types. Specify dtype option on import or set low_memory=False.\n",
      "  interactivity=interactivity, compiler=compiler, result=result)\n",
      "C:\\Users\\Owner\\Anaconda3\\lib\\site-packages\\IPython\\core\\interactiveshell.py:3049: DtypeWarning: Columns (23,24,27,28,29,31,33,34) have mixed types. Specify dtype option on import or set low_memory=False.\n",
      "  interactivity=interactivity, compiler=compiler, result=result)\n",
      "C:\\Users\\Owner\\Anaconda3\\lib\\site-packages\\IPython\\core\\interactiveshell.py:3049: DtypeWarning: Columns (26,50) have mixed types. Specify dtype option on import or set low_memory=False.\n",
      "  interactivity=interactivity, compiler=compiler, result=result)\n",
      "C:\\Users\\Owner\\Anaconda3\\lib\\site-packages\\IPython\\core\\interactiveshell.py:3049: DtypeWarning: Columns (10,11,14,23,24,26,27,28,29,30,33,34,51,64,72) have mixed types. Specify dtype option on import or set low_memory=False.\n",
      "  interactivity=interactivity, compiler=compiler, result=result)\n",
      "C:\\Users\\Owner\\Anaconda3\\lib\\site-packages\\IPython\\core\\interactiveshell.py:3049: DtypeWarning: Columns (10,11,26,33,34,73) have mixed types. Specify dtype option on import or set low_memory=False.\n",
      "  interactivity=interactivity, compiler=compiler, result=result)\n"
     ]
    }
   ],
   "source": [
    "#load FEC data\n",
    "#Data taken from FEC: https://www.fec.gov/data/disbursements/?spender_committee_type=P&data_type=processed\n",
    "\n",
    "#1980\n",
    "anderson_80 = pd.read_csv(\"1980/anderson_80.csv\")\n",
    "candidate = np.full(len(anderson_80),'anderson_80')\n",
    "anderson_80['candidate'] = candidate\n",
    "\n",
    "carter_80 = pd.read_csv(\"1980/carter_80.csv\")\n",
    "candidate = np.full(len(carter_80),'carter_80')\n",
    "carter_80['candidate'] = candidate\n",
    "\n",
    "clark_80 = pd.read_csv(\"1980/clark_80.csv\")\n",
    "candidate = np.full(len(clark_80),'clark_80')\n",
    "clark_80['candidate'] = candidate\n",
    "\n",
    "reagan_80 = pd.read_csv(\"1980/reagan_80.csv\")\n",
    "candidate = np.full(len(reagan_80),'reagan_80')\n",
    "reagan_80['candidate'] = candidate\n",
    "\n",
    "spending_1980 = pd.concat([anderson_80,carter_80,clark_80,reagan_80])\n",
    "election_year = np.full(len(spending_1980),\"1980\")\n",
    "spending_1980['election_year'] = election_year\n",
    "\n",
    "#1984\n",
    "mondale_84 = pd.read_csv('1984/mondale_84.csv')\n",
    "candidate = np.full(len(mondale_84),'mondale_84')\n",
    "mondale_84['candidate'] = candidate\n",
    "\n",
    "reagan_84 = pd.read_csv(\"1984/reagan_84.csv\")\n",
    "candidate = np.full(len(reagan_84),'reagan_84')\n",
    "reagan_84['candidate'] = candidate\n",
    "\n",
    "spending_1984 = pd.concat([mondale_84,reagan_84])\n",
    "election_year = np.full(len(spending_1984),\"1984\")\n",
    "spending_1984['election_year'] = election_year\n",
    "\n",
    "#1988\n",
    "bush_88 = pd.read_csv('1988/bush_88.csv')\n",
    "candidate = np.full(len(bush_88),'bush_88')\n",
    "bush_88['candidate'] = candidate\n",
    "\n",
    "dukakis_88 = pd.read_csv('1988/dukakis_88.csv')\n",
    "candidate = np.full(len(dukakis_88),'dukakis_88')\n",
    "dukakis_88['candidate'] = candidate\n",
    "\n",
    "spending_1988 = pd.concat([bush_88, dukakis_88])\n",
    "election_year = np.full(len(spending_1988),\"1988\")\n",
    "spending_1988['election_year'] = election_year\n",
    "\n",
    "#1992\n",
    "clinton_92 = pd.read_csv('1992/clinton_92.csv')\n",
    "candidate = np.full(len(clinton_92),'clinton_92')\n",
    "clinton_92['candidate'] = candidate\n",
    "\n",
    "bush_92 = pd.read_csv('1992/bush_92.csv')\n",
    "candidate = np.full(len(bush_92),'bush_92')\n",
    "bush_92['candidate'] = candidate\n",
    "\n",
    "perot_92 = pd.read_csv('1992/perot_92.csv')\n",
    "candidate = np.full(len(perot_92),'perot_92')\n",
    "perot_92['candidate'] = candidate\n",
    "\n",
    "spending_1992 = pd.concat([clinton_92, bush_92, perot_92])\n",
    "election_year = np.full(len(spending_1992),\"1992\")\n",
    "spending_1992['election_year'] = election_year\n",
    "\n",
    "#1996\n",
    "clinton_96 = pd.read_csv('1996/clinton_96.csv')\n",
    "candidate = np.full(len(clinton_96),'clinton_96')\n",
    "clinton_96['candidate'] = candidate\n",
    "\n",
    "dole_96 = pd.read_csv('1996/dole_96.csv')\n",
    "candidate = np.full(len(dole_96),'dole_96')\n",
    "dole_96['candidate'] = candidate\n",
    "\n",
    "perot_96 = pd.read_csv('1996/perot_96.csv')\n",
    "candidate = np.full(len(perot_96),'perot_96')\n",
    "perot_96['candidate'] = candidate\n",
    "\n",
    "spending_1996 = pd.concat([clinton_96, dole_96, perot_96])\n",
    "election_year = np.full(len(spending_1996),\"1996\")\n",
    "spending_1996['election_year'] = election_year\n",
    "\n",
    "#2000\n",
    "bush_00 = pd.read_csv('2000/bush_00.csv')\n",
    "candidate = np.full(len(bush_00),'bush_00')\n",
    "bush_00['candidate'] = candidate\n",
    "\n",
    "gore_00 = pd.read_csv('2000/gore_00.csv')\n",
    "candidate = np.full(len(gore_00),'gore_00')\n",
    "gore_00['candidate'] = candidate\n",
    "\n",
    "nader_00 = pd.read_csv('2000/nader_00.csv')\n",
    "candidate = np.full(len(nader_00),'nader_00')\n",
    "nader_00['candidate'] = candidate\n",
    "\n",
    "spending_2000 = pd.concat([bush_00, gore_00, nader_00])\n",
    "election_year = np.full(len(spending_2000),\"2000\")\n",
    "spending_2000['election_year'] = election_year\n",
    "\n",
    "#2004\n",
    "bush_04 = pd.read_csv('2004/bush_04.csv')\n",
    "candidate = np.full(len(bush_04),'bush_04')\n",
    "bush_04['candidate'] = candidate\n",
    "\n",
    "kerry_04 = pd.read_csv('2004/kerry_04.csv')\n",
    "candidate = np.full(len(kerry_04),'kerry_04')\n",
    "kerry_04['candidate'] = candidate\n",
    "\n",
    "spending_2004 = pd.concat([bush_04, kerry_04])\n",
    "election_year = np.full(len(spending_2004),\"2004\")\n",
    "spending_2004['election_year'] = election_year\n",
    "\n",
    "#2008\n",
    "obama_08 = pd.read_csv('2008/obama_08.csv')\n",
    "candidate = np.full(len(obama_08),'obama_08')\n",
    "obama_08['candidate'] = candidate\n",
    "\n",
    "mccain_08 = pd.read_csv('2008/mccain_08.csv')\n",
    "candidate = np.full(len(mccain_08),'mccain_08')\n",
    "mccain_08['candidate'] = candidate\n",
    "\n",
    "spending_2008 = pd.concat([obama_08, mccain_08])\n",
    "election_year = np.full(len(spending_2008),\"2008\")\n",
    "spending_2008['election_year'] = election_year\n",
    "\n",
    "#2012\n",
    "obama_12 = pd.read_csv('2012/obama_12.csv')\n",
    "candidate = np.full(len(obama_12),'obama_12')\n",
    "obama_12['candidate'] = candidate\n",
    "\n",
    "romney_12 = pd.read_csv('2012/romney_12.csv')\n",
    "candidate = np.full(len(romney_12),'romney_12')\n",
    "romney_12['candidate'] = candidate\n",
    "\n",
    "spending_2012 = pd.concat([obama_12,romney_12])\n",
    "election_year = np.full(len(spending_2012),\"2012\")\n",
    "spending_2012['election_year'] = election_year\n",
    "\n",
    "#2016\n",
    "clinton_16 = pd.read_csv('2016/clinton_16.csv')\n",
    "candidate = np.full(len(clinton_16),'clinton_16')\n",
    "clinton_16['candidate'] = candidate\n",
    "\n",
    "trump_16 = pd.read_csv('2016/trump_16.csv')\n",
    "candidate = np.full(len(trump_16),'trump_16')\n",
    "trump_16['candidate'] = candidate\n",
    "\n",
    "johnson_16 = pd.read_csv('2016/johnson_16.csv')\n",
    "candidate = np.full(len(johnson_16),'johnson_16')\n",
    "johnson_16['candidate'] = candidate\n",
    "\n",
    "stein_16 = pd.read_csv('2016/stein_16.csv')\n",
    "candidate = np.full(len(stein_16),'stein_16')\n",
    "stein_16['candidate'] = candidate\n",
    "\n",
    "spending_2016 = pd.concat([clinton_16, trump_16, johnson_16, stein_16])\n",
    "election_year = np.full(len(spending_2016),\"2016\")\n",
    "spending_2016['election_year'] = election_year"
   ]
  },
  {
   "cell_type": "code",
   "execution_count": 3,
   "metadata": {},
   "outputs": [],
   "source": [
    "#concatenate and simplify data into relevant variables\n",
    "spending = pd.concat([spending_1980,spending_1984,spending_1988,spending_1992,spending_1996,spending_2000,spending_2004,spending_2008,spending_2012,spending_2016])\n",
    "\n",
    "#restrict to general elections\n",
    "spending = spending[spending[\"fec_election_type_desc\"] == \"GENERAL\"]\n",
    "\n",
    "#restrict to relevant variables\n",
    "spending = spending[[\"candidate\",\"election_year\",\"recipient_state\",\"disbursement_amount\"]]"
   ]
  },
  {
   "cell_type": "code",
   "execution_count": 4,
   "metadata": {},
   "outputs": [],
   "source": [
    "#remove NaN values\n",
    "spending = spending[spending[\"recipient_state\"] != 'NaN']\n",
    "spending = spending.dropna()\n",
    "\n",
    "#restrict to spending in 50 states + DC only\n",
    "states = [\"AL\", \"AK\", \"AZ\", \"AR\", \"CA\", \"CO\", \"CT\", \"DC\", \"DE\", \"FL\", \"GA\", \n",
    "          \"HI\", \"ID\", \"IL\", \"IN\", \"IA\", \"KS\", \"KY\", \"LA\", \"ME\", \"MD\", \n",
    "          \"MA\", \"MI\", \"MN\", \"MS\", \"MO\", \"MT\", \"NE\", \"NV\", \"NH\", \"NJ\", \n",
    "          \"NM\", \"NY\", \"NC\", \"ND\", \"OH\", \"OK\", \"OR\", \"PA\", \"RI\", \"SC\", \n",
    "          \"SD\", \"TN\", \"TX\", \"UT\", \"VT\", \"VA\", \"WA\", \"WV\", \"WI\", \"WY\"]\n",
    "\n",
    "spending = spending[spending[\"recipient_state\"].isin(states)]"
   ]
  },
  {
   "cell_type": "code",
   "execution_count": 5,
   "metadata": {},
   "outputs": [],
   "source": [
    "#reset index\n",
    "spending = spending.reset_index(drop = True)"
   ]
  },
  {
   "cell_type": "code",
   "execution_count": 6,
   "metadata": {},
   "outputs": [],
   "source": [
    "#instantiate new dataframe\n",
    "column_names = ['candidate', 'election_year', 'recipient_state', 'disbursement_amount']\n",
    "spending_sum = pd.DataFrame(columns = column_names)"
   ]
  },
  {
   "cell_type": "code",
   "execution_count": 9,
   "metadata": {},
   "outputs": [],
   "source": [
    "candidate = spending['candidate'].unique()\n",
    "state = spending['recipient_state'].unique()"
   ]
  },
  {
   "cell_type": "code",
   "execution_count": 10,
   "metadata": {
    "scrolled": true
   },
   "outputs": [
    {
     "name": "stderr",
     "output_type": "stream",
     "text": [
      "C:\\Users\\Owner\\Anaconda3\\lib\\site-packages\\ipykernel_launcher.py:8: UserWarning: Boolean Series key will be reindexed to match DataFrame index.\n",
      "  \n"
     ]
    }
   ],
   "source": [
    "#find sum of all spending for each state for each candidate\n",
    "spending_sum_candidate = []\n",
    "spending_sum_year = []\n",
    "spending_sum_state = []\n",
    "spending_state_spent = []\n",
    "for i in range(len(candidate)):\n",
    "    for j in range(len(state)):\n",
    "        state_sum = np.sum(spending[spending['candidate'] == candidate[i]][spending['recipient_state'] == state[j]]['disbursement_amount'])\n",
    "#        print(candidate[i])\n",
    "        spending_sum_candidate.append(candidate[i])\n",
    "        year = spending[spending['candidate'] == candidate[i]]['election_year'].unique()[0]\n",
    "#        print(year)\n",
    "        spending_sum_year.append(year)\n",
    "#        print(state[j])\n",
    "        spending_sum_state.append(state[j])\n",
    "#        print(state_sum)\n",
    "        spending_state_spent.append(state_sum)"
   ]
  },
  {
   "cell_type": "code",
   "execution_count": 11,
   "metadata": {},
   "outputs": [],
   "source": [
    "spending_sum['candidate'] = spending_sum_candidate\n",
    "spending_sum['election_year'] = spending_sum_year\n",
    "spending_sum['recipient_state'] = spending_sum_state\n",
    "spending_sum['disbursement_amount'] = spending_state_spent"
   ]
  },
  {
   "cell_type": "code",
   "execution_count": 12,
   "metadata": {},
   "outputs": [],
   "source": [
    "#export to csv\n",
    "spending_sum.to_csv('spending.csv')"
   ]
  }
 ],
 "metadata": {
  "kernelspec": {
   "display_name": "Python 3",
   "language": "python",
   "name": "python3"
  },
  "language_info": {
   "codemirror_mode": {
    "name": "ipython",
    "version": 3
   },
   "file_extension": ".py",
   "mimetype": "text/x-python",
   "name": "python",
   "nbconvert_exporter": "python",
   "pygments_lexer": "ipython3",
   "version": "3.7.3"
  }
 },
 "nbformat": 4,
 "nbformat_minor": 2
}
